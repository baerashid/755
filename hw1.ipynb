{
  "nbformat": 4,
  "nbformat_minor": 0,
  "metadata": {
    "colab": {
      "name": "hw1.ipynb",
      "provenance": [],
      "collapsed_sections": [],
      "authorship_tag": "ABX9TyNQY4yI6coNaK7KhtU7S2QA",
      "include_colab_link": true
    },
    "kernelspec": {
      "name": "python3",
      "display_name": "Python 3"
    }
  },
  "cells": [
    {
      "cell_type": "markdown",
      "metadata": {
        "id": "view-in-github",
        "colab_type": "text"
      },
      "source": [
        "<a href=\"https://colab.research.google.com/github/baerashid/755/blob/master/hw1.ipynb\" target=\"_parent\"><img src=\"https://colab.research.google.com/assets/colab-badge.svg\" alt=\"Open In Colab\"/></a>"
      ]
    },
    {
      "cell_type": "code",
      "metadata": {
        "id": "fv8hskudKkCE",
        "colab_type": "code",
        "colab": {}
      },
      "source": [
        "import numpy as np\n",
        "#The default is TF 1.0, so forcing to use 2.0\n",
        "from __future__ import absolute_import, division, print_function, unicode_literals\n",
        "\n",
        "import tensorflow as tf"
      ],
      "execution_count": 0,
      "outputs": []
    },
    {
      "cell_type": "code",
      "metadata": {
        "id": "T9N1WGYVKmil",
        "colab_type": "code",
        "colab": {}
      },
      "source": [
        "P = np.array([[0.5,0,0.5,],\n",
        "             [0,0.75,0.25],\n",
        "             [0.5,0.5,0]])"
      ],
      "execution_count": 0,
      "outputs": []
    },
    {
      "cell_type": "code",
      "metadata": {
        "id": "1CnWWszbLb1f",
        "colab_type": "code",
        "colab": {
          "base_uri": "https://localhost:8080/",
          "height": 72
        },
        "outputId": "25d97a55-94ba-4cfa-e617-df46fc73c7cf"
      },
      "source": [
        "P"
      ],
      "execution_count": 6,
      "outputs": [
        {
          "output_type": "execute_result",
          "data": {
            "text/plain": [
              "array([[0.5 , 0.  , 0.5 ],\n",
              "       [0.  , 0.75, 0.25],\n",
              "       [0.5 , 0.5 , 0.  ]])"
            ]
          },
          "metadata": {
            "tags": []
          },
          "execution_count": 6
        }
      ]
    },
    {
      "cell_type": "code",
      "metadata": {
        "id": "61OLZ8p8Lt0G",
        "colab_type": "code",
        "colab": {}
      },
      "source": [
        "pi0 = np.array([1,0,0], dtype=float)"
      ],
      "execution_count": 0,
      "outputs": []
    },
    {
      "cell_type": "code",
      "metadata": {
        "id": "ajZIyhhVMpzE",
        "colab_type": "code",
        "colab": {
          "base_uri": "https://localhost:8080/",
          "height": 35
        },
        "outputId": "82aa52c0-7ef6-41e1-9c2b-39d8b0485833"
      },
      "source": [
        "pi0"
      ],
      "execution_count": 8,
      "outputs": [
        {
          "output_type": "execute_result",
          "data": {
            "text/plain": [
              "array([1., 0., 0.])"
            ]
          },
          "metadata": {
            "tags": []
          },
          "execution_count": 8
        }
      ]
    },
    {
      "cell_type": "code",
      "metadata": {
        "id": "x0bzsLPIMqWj",
        "colab_type": "code",
        "colab": {
          "base_uri": "https://localhost:8080/",
          "height": 72
        },
        "outputId": "f8a5de36-13ff-4592-98f1-d8f37111f49b"
      },
      "source": [
        "#P to the 3rd power\n",
        "P3 = np.dot(np.dot(P,P),P)\n",
        "P3"
      ],
      "execution_count": 65,
      "outputs": [
        {
          "output_type": "execute_result",
          "data": {
            "text/plain": [
              "array([[0.375   , 0.3125  , 0.3125  ],\n",
              "       [0.15625 , 0.609375, 0.234375],\n",
              "       [0.3125  , 0.46875 , 0.21875 ]])"
            ]
          },
          "metadata": {
            "tags": []
          },
          "execution_count": 65
        }
      ]
    },
    {
      "cell_type": "code",
      "metadata": {
        "id": "AQnJOSdBM9vL",
        "colab_type": "code",
        "colab": {
          "base_uri": "https://localhost:8080/",
          "height": 35
        },
        "outputId": "a5571c0e-c3e1-45fc-a714-33def488fec4"
      },
      "source": [
        "np.sum(P3,axis=1)"
      ],
      "execution_count": 19,
      "outputs": [
        {
          "output_type": "execute_result",
          "data": {
            "text/plain": [
              "array([1., 1., 1.])"
            ]
          },
          "metadata": {
            "tags": []
          },
          "execution_count": 19
        }
      ]
    },
    {
      "cell_type": "code",
      "metadata": {
        "id": "uaN2SvX5No-B",
        "colab_type": "code",
        "colab": {}
      },
      "source": [
        "pi3 = np.dot(pi0,P3)"
      ],
      "execution_count": 0,
      "outputs": []
    },
    {
      "cell_type": "code",
      "metadata": {
        "id": "8A8CJo3hOGto",
        "colab_type": "code",
        "colab": {
          "base_uri": "https://localhost:8080/",
          "height": 35
        },
        "outputId": "8016280b-311f-4649-8e5b-82336b5f43fd"
      },
      "source": [
        "pi3"
      ],
      "execution_count": 21,
      "outputs": [
        {
          "output_type": "execute_result",
          "data": {
            "text/plain": [
              "array([0.375 , 0.3125, 0.3125])"
            ]
          },
          "metadata": {
            "tags": []
          },
          "execution_count": 21
        }
      ]
    },
    {
      "cell_type": "code",
      "metadata": {
        "id": "UDiTxeKqOHbQ",
        "colab_type": "code",
        "colab": {
          "base_uri": "https://localhost:8080/",
          "height": 35
        },
        "outputId": "10abcd31-9532-4b46-bda9-b79fdc200cbf"
      },
      "source": [
        "np.sum(pi3)"
      ],
      "execution_count": 23,
      "outputs": [
        {
          "output_type": "execute_result",
          "data": {
            "text/plain": [
              "1.0"
            ]
          },
          "metadata": {
            "tags": []
          },
          "execution_count": 23
        }
      ]
    },
    {
      "cell_type": "code",
      "metadata": {
        "id": "otnDn1WOOigR",
        "colab_type": "code",
        "colab": {
          "base_uri": "https://localhost:8080/",
          "height": 35
        },
        "outputId": "38bda6cb-deec-4a44-9859-b7b653d41d64"
      },
      "source": [
        "pi1 = np.dot(pi0,P)\n",
        "pi1"
      ],
      "execution_count": 24,
      "outputs": [
        {
          "output_type": "execute_result",
          "data": {
            "text/plain": [
              "array([0.5, 0. , 0.5])"
            ]
          },
          "metadata": {
            "tags": []
          },
          "execution_count": 24
        }
      ]
    },
    {
      "cell_type": "code",
      "metadata": {
        "id": "4KEwo4ZUO-QP",
        "colab_type": "code",
        "colab": {
          "base_uri": "https://localhost:8080/",
          "height": 35
        },
        "outputId": "cb100e03-ab1a-4314-814d-e033c37efc99"
      },
      "source": [
        "pi2 = np.dot(pi1,P)\n",
        "pi2"
      ],
      "execution_count": 25,
      "outputs": [
        {
          "output_type": "execute_result",
          "data": {
            "text/plain": [
              "array([0.5 , 0.25, 0.25])"
            ]
          },
          "metadata": {
            "tags": []
          },
          "execution_count": 25
        }
      ]
    },
    {
      "cell_type": "code",
      "metadata": {
        "id": "e-UvL-_iPEiX",
        "colab_type": "code",
        "colab": {
          "base_uri": "https://localhost:8080/",
          "height": 35
        },
        "outputId": "d3b49a7e-aeb7-49a1-e01f-4b7a98633d01"
      },
      "source": [
        "pi33 = np.dot(pi2,P)\n",
        "pi33"
      ],
      "execution_count": 26,
      "outputs": [
        {
          "output_type": "execute_result",
          "data": {
            "text/plain": [
              "array([0.375 , 0.3125, 0.3125])"
            ]
          },
          "metadata": {
            "tags": []
          },
          "execution_count": 26
        }
      ]
    },
    {
      "cell_type": "code",
      "metadata": {
        "id": "fnTHpJWHPPi-",
        "colab_type": "code",
        "colab": {
          "base_uri": "https://localhost:8080/",
          "height": 72
        },
        "outputId": "5bc25388-5bab-4946-ff4a-5eb3658c97c0"
      },
      "source": [
        "tfP = tf.constant([[0.5,0,0.5,],\n",
        "                   [0,0.75,0.25],\n",
        "                   [0.5,0.5,0]])\n",
        "with tf.Session() as sess:  print(tfP.eval()) "
      ],
      "execution_count": 61,
      "outputs": [
        {
          "output_type": "stream",
          "text": [
            "[[0.5  0.   0.5 ]\n",
            " [0.   0.75 0.25]\n",
            " [0.5  0.5  0.  ]]\n"
          ],
          "name": "stdout"
        }
      ]
    },
    {
      "cell_type": "code",
      "metadata": {
        "id": "cSGp0TXxTb6h",
        "colab_type": "code",
        "colab": {
          "base_uri": "https://localhost:8080/",
          "height": 35
        },
        "outputId": "707641de-75bb-4ad6-8766-5a6117ac3d6a"
      },
      "source": [
        "tfpi0 = tf.constant([1,0,0], dtype=float)\n",
        "with tf.Session() as sess:  print(tfpi0.eval()) "
      ],
      "execution_count": 74,
      "outputs": [
        {
          "output_type": "stream",
          "text": [
            "[1. 0. 0.]\n"
          ],
          "name": "stdout"
        }
      ]
    },
    {
      "cell_type": "code",
      "metadata": {
        "id": "ikqkN57iUPJk",
        "colab_type": "code",
        "colab": {
          "base_uri": "https://localhost:8080/",
          "height": 35
        },
        "outputId": "8f19d2b7-ad68-4ed3-95d3-15c0bff64dbe"
      },
      "source": [
        "tfpi1 = tf.linalg.matvec(tfP,tfpi0)\n",
        "with tf.Session() as sess:  print(tfpi1.eval()) "
      ],
      "execution_count": 75,
      "outputs": [
        {
          "output_type": "stream",
          "text": [
            "[0.5 0.  0.5]\n"
          ],
          "name": "stdout"
        }
      ]
    },
    {
      "cell_type": "code",
      "metadata": {
        "id": "2ibyjarrWYJJ",
        "colab_type": "code",
        "colab": {
          "base_uri": "https://localhost:8080/",
          "height": 72
        },
        "outputId": "9ca7be78-ee54-4c31-d972-2d00cdb815ba"
      },
      "source": [
        "tfP3 = tf.matmul(tfP,tf.matmul(tfP,tfP))\n",
        "with tf.Session() as sess:  print(tfP3.eval()) "
      ],
      "execution_count": 76,
      "outputs": [
        {
          "output_type": "stream",
          "text": [
            "[[0.375    0.3125   0.3125  ]\n",
            " [0.15625  0.609375 0.234375]\n",
            " [0.3125   0.46875  0.21875 ]]\n"
          ],
          "name": "stdout"
        }
      ]
    },
    {
      "cell_type": "code",
      "metadata": {
        "id": "4F2rHoOKcPA_",
        "colab_type": "code",
        "colab": {
          "base_uri": "https://localhost:8080/",
          "height": 72
        },
        "outputId": "f254c498-e4e3-4b87-e323-fb06f5c93cb6"
      },
      "source": [
        "P3"
      ],
      "execution_count": 85,
      "outputs": [
        {
          "output_type": "execute_result",
          "data": {
            "text/plain": [
              "array([[0.375   , 0.3125  , 0.3125  ],\n",
              "       [0.15625 , 0.609375, 0.234375],\n",
              "       [0.3125  , 0.46875 , 0.21875 ]])"
            ]
          },
          "metadata": {
            "tags": []
          },
          "execution_count": 85
        }
      ]
    },
    {
      "cell_type": "code",
      "metadata": {
        "id": "K1k-ajFRYeMl",
        "colab_type": "code",
        "colab": {
          "base_uri": "https://localhost:8080/",
          "height": 35
        },
        "outputId": "1c219555-dbe3-469b-f412-2b8b66cdfcd2"
      },
      "source": [
        "tfpi3 = tf.matmul(tf.expand_dims(tfpi0,0),tfP3)\n",
        "with tf.Session() as sess:  print(tfpi3.eval()) "
      ],
      "execution_count": 84,
      "outputs": [
        {
          "output_type": "stream",
          "text": [
            "[[0.375  0.3125 0.3125]]\n"
          ],
          "name": "stdout"
        }
      ]
    },
    {
      "cell_type": "code",
      "metadata": {
        "id": "OMhL__hoZ7GQ",
        "colab_type": "code",
        "colab": {
          "base_uri": "https://localhost:8080/",
          "height": 35
        },
        "outputId": "37cb1761-cb11-454e-d21c-851927fd2bd8"
      },
      "source": [
        "pi3"
      ],
      "execution_count": 78,
      "outputs": [
        {
          "output_type": "execute_result",
          "data": {
            "text/plain": [
              "array([0.375 , 0.3125, 0.3125])"
            ]
          },
          "metadata": {
            "tags": []
          },
          "execution_count": 78
        }
      ]
    }
  ]
}