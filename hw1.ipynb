{
  "nbformat": 4,
  "nbformat_minor": 0,
  "metadata": {
    "colab": {
      "name": "hw1.ipynb",
      "provenance": [],
      "collapsed_sections": [],
      "authorship_tag": "ABX9TyOUmYbbmisP2OMk9om8BCs+",
      "include_colab_link": true
    },
    "kernelspec": {
      "name": "python3",
      "display_name": "Python 3"
    }
  },
  "cells": [
    {
      "cell_type": "markdown",
      "metadata": {
        "id": "view-in-github",
        "colab_type": "text"
      },
      "source": [
        "<a href=\"https://colab.research.google.com/github/baerashid/755/blob/tf-2.x/hw1.ipynb\" target=\"_parent\"><img src=\"https://colab.research.google.com/assets/colab-badge.svg\" alt=\"Open In Colab\"/></a>"
      ]
    },
    {
      "cell_type": "code",
      "metadata": {
        "id": "Cz4E7Lw-yr4U",
        "colab_type": "code",
        "colab": {}
      },
      "source": [
        "#The default is TF 1.0, so forcing to use 2.0\n",
        "!pip uninstall tensorflow"
      ],
      "execution_count": 0,
      "outputs": []
    },
    {
      "cell_type": "code",
      "metadata": {
        "id": "A6r_mkY7yuZ8",
        "colab_type": "code",
        "colab": {}
      },
      "source": [
        "!pip install tensorflow==2.1.0"
      ],
      "execution_count": 0,
      "outputs": []
    },
    {
      "cell_type": "code",
      "metadata": {
        "id": "WIDQr_0WzNMT",
        "colab_type": "code",
        "colab": {}
      },
      "source": [
        "#Now we have to restart Runtime\n",
        "#Click above"
      ],
      "execution_count": 0,
      "outputs": []
    },
    {
      "cell_type": "code",
      "metadata": {
        "id": "fv8hskudKkCE",
        "colab_type": "code",
        "colab": {
          "base_uri": "https://localhost:8080/",
          "height": 35
        },
        "outputId": "da39aaae-1c4d-44b2-cb52-ee2dec78d070"
      },
      "source": [
        "import numpy as np\n",
        "import tensorflow as tf\n",
        "print(tf.__version__)"
      ],
      "execution_count": 1,
      "outputs": [
        {
          "output_type": "stream",
          "text": [
            "2.1.0\n"
          ],
          "name": "stdout"
        }
      ]
    },
    {
      "cell_type": "markdown",
      "metadata": {
        "id": "CgNJrF7A2qFf",
        "colab_type": "text"
      },
      "source": [
        "Problem 1"
      ]
    },
    {
      "cell_type": "code",
      "metadata": {
        "colab_type": "code",
        "id": "0wexCn6w2IQ_",
        "colab": {}
      },
      "source": [
        "P = np.array([[0.5,0,0.5,],\n",
        "             [0,0.75,0.25],\n",
        "             [0.5,0.5,0]])"
      ],
      "execution_count": 0,
      "outputs": []
    },
    {
      "cell_type": "code",
      "metadata": {
        "id": "1CnWWszbLb1f",
        "colab_type": "code",
        "outputId": "9e8e1d54-ff80-4ad3-84d0-42edac05a8ab",
        "colab": {
          "base_uri": "https://localhost:8080/",
          "height": 72
        }
      },
      "source": [
        "P"
      ],
      "execution_count": 3,
      "outputs": [
        {
          "output_type": "execute_result",
          "data": {
            "text/plain": [
              "array([[0.5 , 0.  , 0.5 ],\n",
              "       [0.  , 0.75, 0.25],\n",
              "       [0.5 , 0.5 , 0.  ]])"
            ]
          },
          "metadata": {
            "tags": []
          },
          "execution_count": 3
        }
      ]
    },
    {
      "cell_type": "code",
      "metadata": {
        "id": "61OLZ8p8Lt0G",
        "colab_type": "code",
        "colab": {}
      },
      "source": [
        "pi0 = np.array([1,0,0], dtype=float)"
      ],
      "execution_count": 0,
      "outputs": []
    },
    {
      "cell_type": "code",
      "metadata": {
        "id": "ajZIyhhVMpzE",
        "colab_type": "code",
        "outputId": "c0a020e6-67f2-4836-89da-cb47973e8486",
        "colab": {
          "base_uri": "https://localhost:8080/",
          "height": 35
        }
      },
      "source": [
        "pi0"
      ],
      "execution_count": 5,
      "outputs": [
        {
          "output_type": "execute_result",
          "data": {
            "text/plain": [
              "array([1., 0., 0.])"
            ]
          },
          "metadata": {
            "tags": []
          },
          "execution_count": 5
        }
      ]
    },
    {
      "cell_type": "code",
      "metadata": {
        "id": "x0bzsLPIMqWj",
        "colab_type": "code",
        "outputId": "cedf5494-5ff9-4875-f559-3ba4b874ee47",
        "colab": {
          "base_uri": "https://localhost:8080/",
          "height": 72
        }
      },
      "source": [
        "#P to the 3rd power\n",
        "P3 = np.dot(np.dot(P,P),P)\n",
        "P3"
      ],
      "execution_count": 6,
      "outputs": [
        {
          "output_type": "execute_result",
          "data": {
            "text/plain": [
              "array([[0.375   , 0.3125  , 0.3125  ],\n",
              "       [0.15625 , 0.609375, 0.234375],\n",
              "       [0.3125  , 0.46875 , 0.21875 ]])"
            ]
          },
          "metadata": {
            "tags": []
          },
          "execution_count": 6
        }
      ]
    },
    {
      "cell_type": "code",
      "metadata": {
        "id": "AQnJOSdBM9vL",
        "colab_type": "code",
        "outputId": "03347f49-038e-44a8-9f8c-851c0a2b2dd7",
        "colab": {
          "base_uri": "https://localhost:8080/",
          "height": 35
        }
      },
      "source": [
        "np.sum(P3,axis=1)"
      ],
      "execution_count": 7,
      "outputs": [
        {
          "output_type": "execute_result",
          "data": {
            "text/plain": [
              "array([1., 1., 1.])"
            ]
          },
          "metadata": {
            "tags": []
          },
          "execution_count": 7
        }
      ]
    },
    {
      "cell_type": "code",
      "metadata": {
        "id": "uaN2SvX5No-B",
        "colab_type": "code",
        "colab": {}
      },
      "source": [
        "pi3 = np.dot(pi0,P3)"
      ],
      "execution_count": 0,
      "outputs": []
    },
    {
      "cell_type": "code",
      "metadata": {
        "id": "8A8CJo3hOGto",
        "colab_type": "code",
        "outputId": "a9116b42-5e1a-4b4e-fe5a-5000fe37c164",
        "colab": {
          "base_uri": "https://localhost:8080/",
          "height": 35
        }
      },
      "source": [
        "pi3"
      ],
      "execution_count": 9,
      "outputs": [
        {
          "output_type": "execute_result",
          "data": {
            "text/plain": [
              "array([0.375 , 0.3125, 0.3125])"
            ]
          },
          "metadata": {
            "tags": []
          },
          "execution_count": 9
        }
      ]
    },
    {
      "cell_type": "code",
      "metadata": {
        "id": "UDiTxeKqOHbQ",
        "colab_type": "code",
        "outputId": "6d9f19bc-4666-46c3-9786-055338f17b03",
        "colab": {
          "base_uri": "https://localhost:8080/",
          "height": 35
        }
      },
      "source": [
        "np.sum(pi3)"
      ],
      "execution_count": 10,
      "outputs": [
        {
          "output_type": "execute_result",
          "data": {
            "text/plain": [
              "1.0"
            ]
          },
          "metadata": {
            "tags": []
          },
          "execution_count": 10
        }
      ]
    },
    {
      "cell_type": "code",
      "metadata": {
        "id": "otnDn1WOOigR",
        "colab_type": "code",
        "outputId": "4202f6a2-4d58-42c8-aff2-0ab7464b4167",
        "colab": {
          "base_uri": "https://localhost:8080/",
          "height": 35
        }
      },
      "source": [
        "pi1 = np.dot(pi0,P)\n",
        "pi1"
      ],
      "execution_count": 11,
      "outputs": [
        {
          "output_type": "execute_result",
          "data": {
            "text/plain": [
              "array([0.5, 0. , 0.5])"
            ]
          },
          "metadata": {
            "tags": []
          },
          "execution_count": 11
        }
      ]
    },
    {
      "cell_type": "code",
      "metadata": {
        "id": "4KEwo4ZUO-QP",
        "colab_type": "code",
        "outputId": "242e1e04-6f05-404b-cdda-21808e327e9c",
        "colab": {
          "base_uri": "https://localhost:8080/",
          "height": 35
        }
      },
      "source": [
        "pi2 = np.dot(pi1,P)\n",
        "pi2"
      ],
      "execution_count": 12,
      "outputs": [
        {
          "output_type": "execute_result",
          "data": {
            "text/plain": [
              "array([0.5 , 0.25, 0.25])"
            ]
          },
          "metadata": {
            "tags": []
          },
          "execution_count": 12
        }
      ]
    },
    {
      "cell_type": "code",
      "metadata": {
        "id": "e-UvL-_iPEiX",
        "colab_type": "code",
        "outputId": "70da8675-7495-4a1e-f622-187ada1911a2",
        "colab": {
          "base_uri": "https://localhost:8080/",
          "height": 35
        }
      },
      "source": [
        "pi33 = np.dot(pi2,P)\n",
        "pi33"
      ],
      "execution_count": 13,
      "outputs": [
        {
          "output_type": "execute_result",
          "data": {
            "text/plain": [
              "array([0.375 , 0.3125, 0.3125])"
            ]
          },
          "metadata": {
            "tags": []
          },
          "execution_count": 13
        }
      ]
    },
    {
      "cell_type": "code",
      "metadata": {
        "id": "fnTHpJWHPPi-",
        "colab_type": "code",
        "outputId": "3be78c1e-f367-45d9-cd29-0d97d800fece",
        "colab": {
          "base_uri": "https://localhost:8080/",
          "height": 72
        }
      },
      "source": [
        "tfP = tf.constant([[0.5,0,0.5,],\n",
        "                   [0,0.75,0.25],\n",
        "                   [0.5,0.5,0]])\n",
        "tf.print(tfP)\n",
        "#with tf.Session() as sess:  print(tfP.eval()) "
      ],
      "execution_count": 15,
      "outputs": [
        {
          "output_type": "stream",
          "text": [
            "[[0.5 0 0.5]\n",
            " [0 0.75 0.25]\n",
            " [0.5 0.5 0]]\n"
          ],
          "name": "stdout"
        }
      ]
    },
    {
      "cell_type": "code",
      "metadata": {
        "id": "cSGp0TXxTb6h",
        "colab_type": "code",
        "outputId": "583c11a3-d0fa-4337-d7a2-8ab9bca21482",
        "colab": {
          "base_uri": "https://localhost:8080/",
          "height": 35
        }
      },
      "source": [
        "tfpi0 = tf.constant([1,0,0], dtype=float)\n",
        "tf.print(tfpi0)"
      ],
      "execution_count": 16,
      "outputs": [
        {
          "output_type": "stream",
          "text": [
            "[1 0 0]\n"
          ],
          "name": "stdout"
        }
      ]
    },
    {
      "cell_type": "code",
      "metadata": {
        "id": "ikqkN57iUPJk",
        "colab_type": "code",
        "outputId": "af0adc98-e940-44ce-c072-f0b4fe61f106",
        "colab": {
          "base_uri": "https://localhost:8080/",
          "height": 35
        }
      },
      "source": [
        "tfpi1 = tf.linalg.matvec(tfP,tfpi0)\n",
        "tf.print(tfpi1)"
      ],
      "execution_count": 17,
      "outputs": [
        {
          "output_type": "stream",
          "text": [
            "[0.5 0 0.5]\n"
          ],
          "name": "stdout"
        }
      ]
    },
    {
      "cell_type": "code",
      "metadata": {
        "id": "2ibyjarrWYJJ",
        "colab_type": "code",
        "outputId": "0585b45d-4bf4-430e-b652-475d8e14313b",
        "colab": {
          "base_uri": "https://localhost:8080/",
          "height": 72
        }
      },
      "source": [
        "tfP3 = tf.matmul(tfP,tf.matmul(tfP,tfP))\n",
        "tf.print(tfP3)"
      ],
      "execution_count": 18,
      "outputs": [
        {
          "output_type": "stream",
          "text": [
            "[[0.375 0.3125 0.3125]\n",
            " [0.15625 0.609375 0.234375]\n",
            " [0.3125 0.46875 0.21875]]\n"
          ],
          "name": "stdout"
        }
      ]
    },
    {
      "cell_type": "code",
      "metadata": {
        "id": "4F2rHoOKcPA_",
        "colab_type": "code",
        "outputId": "3d66dcf2-34ee-4726-b448-863b6abbfbc9",
        "colab": {
          "base_uri": "https://localhost:8080/",
          "height": 72
        }
      },
      "source": [
        "P3"
      ],
      "execution_count": 19,
      "outputs": [
        {
          "output_type": "execute_result",
          "data": {
            "text/plain": [
              "array([[0.375   , 0.3125  , 0.3125  ],\n",
              "       [0.15625 , 0.609375, 0.234375],\n",
              "       [0.3125  , 0.46875 , 0.21875 ]])"
            ]
          },
          "metadata": {
            "tags": []
          },
          "execution_count": 19
        }
      ]
    },
    {
      "cell_type": "code",
      "metadata": {
        "id": "K1k-ajFRYeMl",
        "colab_type": "code",
        "outputId": "52a90a9c-ccb8-47c8-8b22-421e84f76b2f",
        "colab": {
          "base_uri": "https://localhost:8080/",
          "height": 35
        }
      },
      "source": [
        "tfpi3 = tf.matmul(tf.expand_dims(tfpi0,0),tfP3)\n",
        "tf.print(tfpi3)"
      ],
      "execution_count": 20,
      "outputs": [
        {
          "output_type": "stream",
          "text": [
            "[[0.375 0.3125 0.3125]]\n"
          ],
          "name": "stdout"
        }
      ]
    },
    {
      "cell_type": "code",
      "metadata": {
        "id": "OMhL__hoZ7GQ",
        "colab_type": "code",
        "outputId": "ed88455d-5820-4413-b521-d3958ea8e3a8",
        "colab": {
          "base_uri": "https://localhost:8080/",
          "height": 35
        }
      },
      "source": [
        "pi3"
      ],
      "execution_count": 21,
      "outputs": [
        {
          "output_type": "execute_result",
          "data": {
            "text/plain": [
              "array([0.375 , 0.3125, 0.3125])"
            ]
          },
          "metadata": {
            "tags": []
          },
          "execution_count": 21
        }
      ]
    },
    {
      "cell_type": "code",
      "metadata": {
        "id": "2ASXEdzkwEnP",
        "colab_type": "code",
        "colab": {}
      },
      "source": [
        "tfpi0_0 = tf.constant([0.25,0.5,0.25])"
      ],
      "execution_count": 0,
      "outputs": []
    },
    {
      "cell_type": "code",
      "metadata": {
        "id": "oYNnxAPlwTJw",
        "colab_type": "code",
        "colab": {
          "base_uri": "https://localhost:8080/",
          "height": 35
        },
        "outputId": "caf78e3d-b146-4200-f73e-f4f3adcf2746"
      },
      "source": [
        "tfpi1_1 = tf.matmul(tf.expand_dims(tfpi0_0,0),tfP)\n",
        "tf.print(tfpi1_1)"
      ],
      "execution_count": 23,
      "outputs": [
        {
          "output_type": "stream",
          "text": [
            "[[0.25 0.5 0.25]]\n"
          ],
          "name": "stdout"
        }
      ]
    },
    {
      "cell_type": "code",
      "metadata": {
        "id": "jkV7cZqj1_J5",
        "colab_type": "code",
        "colab": {}
      },
      "source": [
        ""
      ],
      "execution_count": 0,
      "outputs": []
    },
    {
      "cell_type": "markdown",
      "metadata": {
        "id": "VGsSRnaL2zx5",
        "colab_type": "text"
      },
      "source": [
        "Problem 2"
      ]
    },
    {
      "cell_type": "code",
      "metadata": {
        "id": "GjJedOXV20xI",
        "colab_type": "code",
        "colab": {}
      },
      "source": [
        "T = tf.Variable(tf.zeros([7,7],dtype=float))"
      ],
      "execution_count": 0,
      "outputs": []
    },
    {
      "cell_type": "code",
      "metadata": {
        "id": "2oigoyrS4c5G",
        "colab_type": "code",
        "colab": {
          "base_uri": "https://localhost:8080/",
          "height": 144
        },
        "outputId": "607d89cb-c36e-45d3-e93e-b96ef327c9b1"
      },
      "source": [
        "tf.print(T)"
      ],
      "execution_count": 35,
      "outputs": [
        {
          "output_type": "stream",
          "text": [
            "[[0 0 0 ... 0 0 0]\n",
            " [0 0 0 ... 0 0 0]\n",
            " [0 0 0 ... 0 0 0]\n",
            " ...\n",
            " [0 0 0 ... 0 0 0]\n",
            " [0 0 0 ... 0 0 0]\n",
            " [0 0 0 ... 0 0 0]]\n"
          ],
          "name": "stdout"
        }
      ]
    },
    {
      "cell_type": "code",
      "metadata": {
        "id": "pw4j3Mum4epA",
        "colab_type": "code",
        "colab": {
          "base_uri": "https://localhost:8080/",
          "height": 290
        },
        "outputId": "f8df956e-0c1e-46a2-e3bc-fa8c38decf72"
      },
      "source": [
        "T[0,1].assign(1)\n",
        "T[1,2].assign(0.5)\n",
        "T[1,6].assign(0.5)\n",
        "T[2,2].assign(1)\n",
        "T[3,5].assign(1)\n",
        "T[4,3].assign(1./3)\n",
        "T[4,5].assign(1./3)\n",
        "T[4,6].assign(1./3)\n",
        "T[5,3].assign(1)\n",
        "T[5,0].assign(0.5)\n",
        "T[5,3].assign(0.5)"
      ],
      "execution_count": 38,
      "outputs": [
        {
          "output_type": "execute_result",
          "data": {
            "text/plain": [
              "<tf.Variable 'UnreadVariable' shape=(7, 7) dtype=float32, numpy=\n",
              "array([[1.        , 1.        , 0.        , 0.        , 0.        ,\n",
              "        0.        , 0.        ],\n",
              "       [0.        , 0.        , 0.5       , 0.        , 0.        ,\n",
              "        0.        , 0.5       ],\n",
              "       [0.        , 0.        , 1.        , 0.        , 0.        ,\n",
              "        0.        , 0.        ],\n",
              "       [0.        , 0.        , 0.        , 0.        , 0.        ,\n",
              "        1.        , 0.        ],\n",
              "       [0.        , 0.        , 0.        , 0.33333334, 0.        ,\n",
              "        0.33333334, 0.33333334],\n",
              "       [0.5       , 0.        , 0.        , 0.5       , 0.        ,\n",
              "        0.        , 0.        ],\n",
              "       [0.        , 0.        , 0.        , 0.        , 0.        ,\n",
              "        0.        , 0.        ]], dtype=float32)>"
            ]
          },
          "metadata": {
            "tags": []
          },
          "execution_count": 38
        }
      ]
    },
    {
      "cell_type": "code",
      "metadata": {
        "id": "AyNFSNpT66-G",
        "colab_type": "code",
        "colab": {
          "base_uri": "https://localhost:8080/",
          "height": 290
        },
        "outputId": "2e62546c-7f4a-4b6f-b216-10f6e24d1066"
      },
      "source": [
        "T"
      ],
      "execution_count": 39,
      "outputs": [
        {
          "output_type": "execute_result",
          "data": {
            "text/plain": [
              "<tf.Variable 'Variable:0' shape=(7, 7) dtype=float32, numpy=\n",
              "array([[1.        , 1.        , 0.        , 0.        , 0.        ,\n",
              "        0.        , 0.        ],\n",
              "       [0.        , 0.        , 0.5       , 0.        , 0.        ,\n",
              "        0.        , 0.5       ],\n",
              "       [0.        , 0.        , 1.        , 0.        , 0.        ,\n",
              "        0.        , 0.        ],\n",
              "       [0.        , 0.        , 0.        , 0.        , 0.        ,\n",
              "        1.        , 0.        ],\n",
              "       [0.        , 0.        , 0.        , 0.33333334, 0.        ,\n",
              "        0.33333334, 0.33333334],\n",
              "       [0.5       , 0.        , 0.        , 0.5       , 0.        ,\n",
              "        0.        , 0.        ],\n",
              "       [0.        , 0.        , 0.        , 0.        , 0.        ,\n",
              "        0.        , 0.        ]], dtype=float32)>"
            ]
          },
          "metadata": {
            "tags": []
          },
          "execution_count": 39
        }
      ]
    },
    {
      "cell_type": "code",
      "metadata": {
        "id": "1NfWnUDY78bU",
        "colab_type": "code",
        "colab": {}
      },
      "source": [
        ""
      ],
      "execution_count": 0,
      "outputs": []
    }
  ]
}